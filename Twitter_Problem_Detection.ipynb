{
  "nbformat": 4,
  "nbformat_minor": 0,
  "metadata": {
    "colab": {
      "name": "Twitter_Problem_Detection.ipynb",
      "provenance": [],
      "authorship_tag": "ABX9TyMbD2uBY8+aNgpJWmHsIb5S",
      "include_colab_link": true
    },
    "kernelspec": {
      "name": "python3",
      "display_name": "Python 3"
    },
    "language_info": {
      "name": "python"
    }
  },
  "cells": [
    {
      "cell_type": "markdown",
      "metadata": {
        "id": "view-in-github",
        "colab_type": "text"
      },
      "source": [
        "<a href=\"https://colab.research.google.com/github/R-A-N-N/Final-Year-Project/blob/main/Twitter_Problem_Detection.ipynb\" target=\"_parent\"><img src=\"https://colab.research.google.com/assets/colab-badge.svg\" alt=\"Open In Colab\"/></a>"
      ]
    },
    {
      "cell_type": "markdown",
      "metadata": {
        "id": "paog0zTEwz7t"
      },
      "source": [
        "#Authentication"
      ]
    },
    {
      "cell_type": "code",
      "metadata": {
        "id": "tyFkcZHKUfne"
      },
      "source": [
        "import os\n",
        "import tweepy as tw\n",
        "from time import sleep\n",
        "import pandas as pd\n",
        "import csv \n",
        "import re \n",
        "import string\n",
        "# import preprocessor as p"
      ],
      "execution_count": 79,
      "outputs": []
    },
    {
      "cell_type": "code",
      "metadata": {
        "id": "KoDkAObRtKkC"
      },
      "source": [
        "consumer_key= ''\n",
        "consumer_secret= ''\n",
        "access_token= ''\n",
        "access_token_secret= ''\n",
        "\n",
        "#please copy paste all the keys which are pinned on our discord server in back-end channel "
      ],
      "execution_count": 80,
      "outputs": []
    },
    {
      "cell_type": "markdown",
      "metadata": {
        "id": "mMCP8wOmw5Bi"
      },
      "source": [
        "#Method 1 - Extraction"
      ]
    },
    {
      "cell_type": "code",
      "metadata": {
        "id": "23V6w_8ath1c"
      },
      "source": [
        "auth = tw.OAuthHandler(consumer_key, consumer_secret)\n",
        "auth.set_access_token(access_token, access_token_secret)\n",
        "api = tw.API(auth, wait_on_rate_limit=True)"
      ],
      "execution_count": 81,
      "outputs": []
    },
    {
      "cell_type": "code",
      "metadata": {
        "id": "z6V7xzv8tlwp"
      },
      "source": [
        "# Define the search term and the date_since date as variables\n",
        "search_words = \"India\"\n",
        "date_since = \"2000-01-01\""
      ],
      "execution_count": 82,
      "outputs": []
    },
    {
      "cell_type": "code",
      "metadata": {
        "colab": {
          "base_uri": "https://localhost:8080/"
        },
        "id": "tzM0K986txNH",
        "outputId": "681ddc50-88db-4235-c7bb-f24c55ca5a04"
      },
      "source": [
        "# Collect tweets\n",
        "tweets = tw.Cursor(api.search,\n",
        "              q=search_words,\n",
        "              lang=\"en\",\n",
        "              since=date_since).items(5)\n",
        "tweets\n"
      ],
      "execution_count": 83,
      "outputs": [
        {
          "output_type": "execute_result",
          "data": {
            "text/plain": [
              "<tweepy.cursor.ItemIterator at 0x7fbe9aedb810>"
            ]
          },
          "metadata": {},
          "execution_count": 83
        }
      ]
    },
    {
      "cell_type": "code",
      "metadata": {
        "colab": {
          "base_uri": "https://localhost:8080/"
        },
        "id": "p9Ct3ZXptzoT",
        "outputId": "79bbfb63-131f-465e-93cf-ca9f126ab25b"
      },
      "source": [
        "# Collect tweets\n",
        "tweets = tw.Cursor(api.search,\n",
        "              q=search_words,\n",
        "              lang=\"en\",\n",
        "              since=date_since).items(5)\n",
        "\n",
        "# Iterate and print tweets\n",
        "for tweet in tweets:\n",
        "    print(tweet.text)\n",
        "    "
      ],
      "execution_count": 84,
      "outputs": [
        {
          "output_type": "stream",
          "text": [
            "RT @TimesNow: Islamophobia is a rational fear among Muslims to discuss Islam in its entirety. It is the so-called moderate Muslims who are…\n",
            "RT @_timos_: India Bookkeeping App Raises $100 Million From Tribe, Moore https://t.co/Em8u1Wm8AN #digitalhealth #socialmedia #digitalmarket…\n",
            "RT @UN_Women: Meet some of the women on the front lines of the #COVID19 response in India as the country emerges from the deadly second wav…\n",
            "RT @prasanto: DoT extends suspension of official Ashish Joshi - who was suspended for complaining about Kapil Mishra's hate speech - a susp…\n",
            "RT @Nitin_Rivaldo: When Jihadis led by SUFI Musliyar rip open pregnent women &amp; butchered Hindus\n",
            "\n",
            "Gandhi praised them,\"Brave God-fearing Mop…\n"
          ],
          "name": "stdout"
        }
      ]
    },
    {
      "cell_type": "code",
      "metadata": {
        "colab": {
          "base_uri": "https://localhost:8080/"
        },
        "id": "QjmsCAS7t4tu",
        "outputId": "25d90dbc-dedc-4cbc-d7d9-9236cf6d2ad4"
      },
      "source": [
        "# Collect tweets\n",
        "tweets = tw.Cursor(api.search,\n",
        "                       q=search_words,\n",
        "                       lang=\"en\",\n",
        "                       since=date_since).items(5)\n",
        "\n",
        "# Collect a list of tweets\n",
        "[tweet.text for tweet in tweets]"
      ],
      "execution_count": 85,
      "outputs": [
        {
          "output_type": "execute_result",
          "data": {
            "text/plain": [
              "['RT @TimesNow: Islamophobia is a rational fear among Muslims to discuss Islam in its entirety. It is the so-called moderate Muslims who are…',\n",
              " 'RT @_timos_: India Bookkeeping App Raises $100 Million From Tribe, Moore https://t.co/Em8u1Wm8AN #digitalhealth #socialmedia #digitalmarket…',\n",
              " 'RT @UN_Women: Meet some of the women on the front lines of the #COVID19 response in India as the country emerges from the deadly second wav…',\n",
              " \"RT @prasanto: DoT extends suspension of official Ashish Joshi - who was suspended for complaining about Kapil Mishra's hate speech - a susp…\",\n",
              " 'RT @Nitin_Rivaldo: When Jihadis led by SUFI Musliyar rip open pregnent women &amp; butchered Hindus\\n\\nGandhi praised them,\"Brave God-fearing Mop…']"
            ]
          },
          "metadata": {},
          "execution_count": 85
        }
      ]
    },
    {
      "cell_type": "markdown",
      "metadata": {
        "id": "2lOnu6vTxEEy"
      },
      "source": [
        "#Method 2 - Extraction"
      ]
    },
    {
      "cell_type": "code",
      "metadata": {
        "id": "PpyfKHIBuMev"
      },
      "source": [
        "search_words = \"Thane\"      #enter your words\n",
        "new_search = search_words + \" -filter:retweets\""
      ],
      "execution_count": 86,
      "outputs": []
    },
    {
      "cell_type": "code",
      "metadata": {
        "id": "kMZtN7xTwdBQ"
      },
      "source": [
        "csvFile = open('Tweets', 'a')\n",
        "csvWriter = csv.writer(csvFile)"
      ],
      "execution_count": 87,
      "outputs": []
    },
    {
      "cell_type": "code",
      "metadata": {
        "id": "9ccJYd7ju0H_"
      },
      "source": [
        "for tweet in tw.Cursor(api.search,q=new_search,count=100,\n",
        "                           lang=\"en\",\n",
        "                           since_id=0).items():\n",
        "    csvWriter.writerow([tweet.created_at, tweet.text.encode('utf-8'),tweet.user.screen_name.encode('utf-8'), tweet.user.location.encode('utf-8')])\n"
      ],
      "execution_count": 88,
      "outputs": []
    },
    {
      "cell_type": "code",
      "metadata": {
        "id": "ajvn3exbwgEI"
      },
      "source": [
        "# extracted date , time , username , location ,tweet \n",
        "# Extracted 3945 Tweets \n",
        "# which we have to first manually classify for our training dataset.\n",
        "# train Naive Bayes ML model"
      ],
      "execution_count": 89,
      "outputs": []
    }
  ]
}